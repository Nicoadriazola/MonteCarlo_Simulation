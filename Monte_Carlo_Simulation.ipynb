{
 "cells": [
  {
   "cell_type": "code",
   "execution_count": 1,
   "id": "ff6ad104",
   "metadata": {},
   "outputs": [],
   "source": [
    "import numpy as np\n",
    "import matplotlib.pyplot as plt\n",
    "import pandas_datareader as pdr\n",
    "import yfinance as yf"
   ]
  },
  {
   "cell_type": "markdown",
   "id": "f479a904",
   "metadata": {},
   "source": [
    "# Simulación de Monte Carlo\n",
    "\n",
    "La simulación de Monte Carlo en el contexto de los precios de las acciones, podemos considerar una serie de rendimientos de una acción (denotados por $r$) como una variable aleatoria que sigue una distribución normal con media $\\mu$ y desviación estándar $\\sigma$. Esto se puede expresar matemáticamente de la siguiente manera:\n",
    "\n",
    "$$r \\sim N(\\mu, \\sigma)$$\n",
    "\n",
    "Para simular el precio futuro de la acción, se puede utilizar la ecuación de rendimiento compuesto, que nos permite calcular el precio futuro $(S)$ de una acción a partir del precio actual $(S_0)$ y los rendimientos $(r)$ durante un período de tiempo $(t)$:\n",
    "\n",
    "$$ S = S_0 \\cdot e^{\\left(r - \\frac{1}{2}\\sigma^2 \\right) t + \\sigma \\sqrt{t} \\cdot z} $$\n",
    "\n",
    "En esta ecuación, $S$ es el precio futuro de la acción, $S_0$ es el precio actual de la acción, $r$ es el rendimiento promedio de la acción ajustado por el riesgo, $\\sigma$ es la desviación estándar de los rendimientos de la acción, $t$ es el período de tiempo y $z$ es un número aleatorio que sigue una distribución normal estándar. El término $\\left(r - \\frac{1}{2}\\sigma^2 \\right)t$ representa la tasa de crecimiento promedio de la acción durante el período de tiempo, y el término $\\sigma \\sqrt{t} \\cdot z$ representa la variación aleatoria de los rendimientos.\n",
    "\n",
    "Para simular el precio futuro de la acción utilizando la simulación de Monte Carlo, primero se deben estimar los valores de $\\mu$ y $\\sigma$ a partir de los rendimientos históricos de la acción. Luego, se pueden generar múltiples números aleatorios $z$ y utilizarlos en la ecuación de rendimiento compuesto para generar múltiples escenarios de precios futuros.\n",
    "\n",
    "Por ejemplo, si queremos generar 1000 escenarios de precios futuros de una acción, podemos generar 1000 números aleatorios \"z\", utilizando la distribución normal estándar. Luego, podemos utilizar cada uno de estos números aleatorios en la ecuación de rendimiento compuesto para generar 1000 escenarios de precios futuros.\n",
    "\n",
    "Finalmente, podemos utilizar estos escenarios de precios futuros para estimar la distribución de probabilidad de los precios futuros de la acción. Por ejemplo, podemos calcular el valor esperado (o media) y la desviación estándar de los precios futuros simulados para obtener una idea de la distribución de los precios futuros de la acción."
   ]
  },
  {
   "cell_type": "code",
   "execution_count": 2,
   "id": "372d10fe",
   "metadata": {},
   "outputs": [
    {
     "name": "stdout",
     "output_type": "stream",
     "text": [
      "[*********************100%***********************]  1 of 1 completed\n"
     ]
    },
    {
     "data": {
      "image/png": "[encoded data removed]",
      "text/plain": [
       "<Figure size 1080x720 with 1 Axes>"
      ]
     },
     "metadata": {
      "needs_background": "light"
     },
     "output_type": "display_data"
    }
   ],
   "source": [
    "# Obtener datos históricos de una acción\n",
    "ticker = 'AAPL'\n",
    "start_date = '2010-01-01'\n",
    "end_date = '2019-12-31'\n",
    "\n",
    "data = yf.download(ticker, start=start_date, end=end_date)\n",
    "\n",
    "# Calcular los rendimientos logarítmicos\n",
    "log_returns = np.log(1 + data['Adj Close'].pct_change())\n",
    "\n",
    "# Calcular los parámetros de la simulación\n",
    "mu = np.mean(log_returns)\n",
    "sigma = np.std(log_returns)\n",
    "\n",
    "# Generar números aleatorios\n",
    "num_simulaciones = 10000\n",
    "dias_futuros = 252\n",
    "\n",
    "simulaciones = np.zeros((num_simulaciones, dias_futuros))\n",
    "\n",
    "for i in range(num_simulaciones):\n",
    "    sim_returns = np.random.normal(mu, sigma, dias_futuros)\n",
    "    simulaciones[i, :] = (data['Adj Close'].iloc[-1]) * np.exp(np.cumsum(sim_returns))\n",
    "    \n",
    "# Graficar los resultados    \n",
    "plt.figure(figsize=(15, 10))\n",
    "plt.hist(simulaciones[:, -1], bins=50, color='Grey')\n",
    "plt.xlabel('Precio')\n",
    "plt.ylabel('Frecuencia')\n",
    "plt.title('Simulación de precios de acción')\n",
    "plt.show()"
   ]
  }
 ],
 "metadata": {
  "kernelspec": {
   "display_name": "Python 3",
   "language": "python",
   "name": "python3"
  },
  "language_info": {
   "codemirror_mode": {
    "name": "ipython",
    "version": 3
   },
   "file_extension": ".py",
   "mimetype": "text/x-python",
   "name": "python",
   "nbconvert_exporter": "python",
   "pygments_lexer": "ipython3",
   "version": "3.8.8"
  }
 },
 "nbformat": 4,
 "nbformat_minor": 5
}
